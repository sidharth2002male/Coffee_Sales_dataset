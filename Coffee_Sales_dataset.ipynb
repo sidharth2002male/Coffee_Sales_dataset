{
 "cells": [
  {
   "cell_type": "code",
   "execution_count": 40,
   "id": "9521eb61",
   "metadata": {},
   "outputs": [],
   "source": [
    "# Data Cleaning and Preprocessing Tool"
   ]
  },
  {
   "cell_type": "code",
   "execution_count": 41,
   "id": "4e231f57",
   "metadata": {},
   "outputs": [],
   "source": [
    "import pandas as pd\n",
    "import numpy as np\n",
    "from scipy import stats"
   ]
  },
  {
   "cell_type": "code",
   "execution_count": 42,
   "id": "d4e9c935",
   "metadata": {},
   "outputs": [],
   "source": [
    "#1. Loading the Coffee_Sales Dataset"
   ]
  },
  {
   "cell_type": "code",
   "execution_count": 43,
   "id": "3f6c6c56",
   "metadata": {},
   "outputs": [
    {
     "name": "stdout",
     "output_type": "stream",
     "text": [
      "Dataset Shape: (3547, 11)\n"
     ]
    }
   ],
   "source": [
    "df = pd.read_csv(\"Coffe_Sales.csv\") #Loading the dataset\n",
    "print(\"Dataset Shape:\", df.shape) #Checking the shape of the dataset"
   ]
  },
  {
   "cell_type": "code",
   "execution_count": 44,
   "id": "8c2da6b0",
   "metadata": {},
   "outputs": [
    {
     "data": {
      "text/html": [
       "<div>\n",
       "<style scoped>\n",
       "    .dataframe tbody tr th:only-of-type {\n",
       "        vertical-align: middle;\n",
       "    }\n",
       "\n",
       "    .dataframe tbody tr th {\n",
       "        vertical-align: top;\n",
       "    }\n",
       "\n",
       "    .dataframe thead th {\n",
       "        text-align: right;\n",
       "    }\n",
       "</style>\n",
       "<table border=\"1\" class=\"dataframe\">\n",
       "  <thead>\n",
       "    <tr style=\"text-align: right;\">\n",
       "      <th></th>\n",
       "      <th>hour_of_day</th>\n",
       "      <th>cash_type</th>\n",
       "      <th>money</th>\n",
       "      <th>coffee_name</th>\n",
       "      <th>Time_of_Day</th>\n",
       "      <th>Weekday</th>\n",
       "      <th>Month_name</th>\n",
       "      <th>Weekdaysort</th>\n",
       "      <th>Monthsort</th>\n",
       "      <th>Date</th>\n",
       "      <th>Time</th>\n",
       "    </tr>\n",
       "  </thead>\n",
       "  <tbody>\n",
       "    <tr>\n",
       "      <th>0</th>\n",
       "      <td>10</td>\n",
       "      <td>card</td>\n",
       "      <td>38.70</td>\n",
       "      <td>Latte</td>\n",
       "      <td>Morning</td>\n",
       "      <td>Fri</td>\n",
       "      <td>Mar</td>\n",
       "      <td>5</td>\n",
       "      <td>3</td>\n",
       "      <td>2024-03-01</td>\n",
       "      <td>10:15:50.520000</td>\n",
       "    </tr>\n",
       "    <tr>\n",
       "      <th>1</th>\n",
       "      <td>12</td>\n",
       "      <td>card</td>\n",
       "      <td>38.70</td>\n",
       "      <td>Hot Chocolate</td>\n",
       "      <td>Afternoon</td>\n",
       "      <td>Fri</td>\n",
       "      <td>Mar</td>\n",
       "      <td>5</td>\n",
       "      <td>3</td>\n",
       "      <td>2024-03-01</td>\n",
       "      <td>12:19:22.539000</td>\n",
       "    </tr>\n",
       "    <tr>\n",
       "      <th>2</th>\n",
       "      <td>12</td>\n",
       "      <td>card</td>\n",
       "      <td>38.70</td>\n",
       "      <td>Hot Chocolate</td>\n",
       "      <td>Afternoon</td>\n",
       "      <td>Fri</td>\n",
       "      <td>Mar</td>\n",
       "      <td>5</td>\n",
       "      <td>3</td>\n",
       "      <td>2024-03-01</td>\n",
       "      <td>12:20:18.089000</td>\n",
       "    </tr>\n",
       "    <tr>\n",
       "      <th>3</th>\n",
       "      <td>13</td>\n",
       "      <td>card</td>\n",
       "      <td>28.90</td>\n",
       "      <td>Americano</td>\n",
       "      <td>Afternoon</td>\n",
       "      <td>Fri</td>\n",
       "      <td>Mar</td>\n",
       "      <td>5</td>\n",
       "      <td>3</td>\n",
       "      <td>2024-03-01</td>\n",
       "      <td>13:46:33.006000</td>\n",
       "    </tr>\n",
       "    <tr>\n",
       "      <th>4</th>\n",
       "      <td>13</td>\n",
       "      <td>card</td>\n",
       "      <td>38.70</td>\n",
       "      <td>Latte</td>\n",
       "      <td>Afternoon</td>\n",
       "      <td>Fri</td>\n",
       "      <td>Mar</td>\n",
       "      <td>5</td>\n",
       "      <td>3</td>\n",
       "      <td>2024-03-01</td>\n",
       "      <td>13:48:14.626000</td>\n",
       "    </tr>\n",
       "    <tr>\n",
       "      <th>...</th>\n",
       "      <td>...</td>\n",
       "      <td>...</td>\n",
       "      <td>...</td>\n",
       "      <td>...</td>\n",
       "      <td>...</td>\n",
       "      <td>...</td>\n",
       "      <td>...</td>\n",
       "      <td>...</td>\n",
       "      <td>...</td>\n",
       "      <td>...</td>\n",
       "      <td>...</td>\n",
       "    </tr>\n",
       "    <tr>\n",
       "      <th>3542</th>\n",
       "      <td>10</td>\n",
       "      <td>card</td>\n",
       "      <td>35.76</td>\n",
       "      <td>Cappuccino</td>\n",
       "      <td>Morning</td>\n",
       "      <td>Sun</td>\n",
       "      <td>Mar</td>\n",
       "      <td>7</td>\n",
       "      <td>3</td>\n",
       "      <td>2025-03-23</td>\n",
       "      <td>10:34:54.894000</td>\n",
       "    </tr>\n",
       "    <tr>\n",
       "      <th>3543</th>\n",
       "      <td>14</td>\n",
       "      <td>card</td>\n",
       "      <td>35.76</td>\n",
       "      <td>Cocoa</td>\n",
       "      <td>Afternoon</td>\n",
       "      <td>Sun</td>\n",
       "      <td>Mar</td>\n",
       "      <td>7</td>\n",
       "      <td>3</td>\n",
       "      <td>2025-03-23</td>\n",
       "      <td>14:43:37.362000</td>\n",
       "    </tr>\n",
       "    <tr>\n",
       "      <th>3544</th>\n",
       "      <td>14</td>\n",
       "      <td>card</td>\n",
       "      <td>35.76</td>\n",
       "      <td>Cocoa</td>\n",
       "      <td>Afternoon</td>\n",
       "      <td>Sun</td>\n",
       "      <td>Mar</td>\n",
       "      <td>7</td>\n",
       "      <td>3</td>\n",
       "      <td>2025-03-23</td>\n",
       "      <td>14:44:16.864000</td>\n",
       "    </tr>\n",
       "    <tr>\n",
       "      <th>3545</th>\n",
       "      <td>15</td>\n",
       "      <td>card</td>\n",
       "      <td>25.96</td>\n",
       "      <td>Americano</td>\n",
       "      <td>Afternoon</td>\n",
       "      <td>Sun</td>\n",
       "      <td>Mar</td>\n",
       "      <td>7</td>\n",
       "      <td>3</td>\n",
       "      <td>2025-03-23</td>\n",
       "      <td>15:47:28.723000</td>\n",
       "    </tr>\n",
       "    <tr>\n",
       "      <th>3546</th>\n",
       "      <td>18</td>\n",
       "      <td>card</td>\n",
       "      <td>35.76</td>\n",
       "      <td>Latte</td>\n",
       "      <td>Night</td>\n",
       "      <td>Sun</td>\n",
       "      <td>Mar</td>\n",
       "      <td>7</td>\n",
       "      <td>3</td>\n",
       "      <td>2025-03-23</td>\n",
       "      <td>18:11:38.635000</td>\n",
       "    </tr>\n",
       "  </tbody>\n",
       "</table>\n",
       "<p>3547 rows × 11 columns</p>\n",
       "</div>"
      ],
      "text/plain": [
       "      hour_of_day cash_type  money    coffee_name Time_of_Day Weekday  \\\n",
       "0              10      card  38.70          Latte     Morning     Fri   \n",
       "1              12      card  38.70  Hot Chocolate   Afternoon     Fri   \n",
       "2              12      card  38.70  Hot Chocolate   Afternoon     Fri   \n",
       "3              13      card  28.90      Americano   Afternoon     Fri   \n",
       "4              13      card  38.70          Latte   Afternoon     Fri   \n",
       "...           ...       ...    ...            ...         ...     ...   \n",
       "3542           10      card  35.76     Cappuccino     Morning     Sun   \n",
       "3543           14      card  35.76          Cocoa   Afternoon     Sun   \n",
       "3544           14      card  35.76          Cocoa   Afternoon     Sun   \n",
       "3545           15      card  25.96      Americano   Afternoon     Sun   \n",
       "3546           18      card  35.76          Latte       Night     Sun   \n",
       "\n",
       "     Month_name  Weekdaysort  Monthsort        Date             Time  \n",
       "0           Mar            5          3  2024-03-01  10:15:50.520000  \n",
       "1           Mar            5          3  2024-03-01  12:19:22.539000  \n",
       "2           Mar            5          3  2024-03-01  12:20:18.089000  \n",
       "3           Mar            5          3  2024-03-01  13:46:33.006000  \n",
       "4           Mar            5          3  2024-03-01  13:48:14.626000  \n",
       "...         ...          ...        ...         ...              ...  \n",
       "3542        Mar            7          3  2025-03-23  10:34:54.894000  \n",
       "3543        Mar            7          3  2025-03-23  14:43:37.362000  \n",
       "3544        Mar            7          3  2025-03-23  14:44:16.864000  \n",
       "3545        Mar            7          3  2025-03-23  15:47:28.723000  \n",
       "3546        Mar            7          3  2025-03-23  18:11:38.635000  \n",
       "\n",
       "[3547 rows x 11 columns]"
      ]
     },
     "execution_count": 44,
     "metadata": {},
     "output_type": "execute_result"
    }
   ],
   "source": [
    "df #First 5 and last 5 rows of the dataset"
   ]
  },
  {
   "cell_type": "code",
   "execution_count": 45,
   "id": "21ef63a7",
   "metadata": {},
   "outputs": [],
   "source": [
    "#2. Handling Missing Values of the dataset"
   ]
  },
  {
   "cell_type": "code",
   "execution_count": 46,
   "id": "6ffb2f33",
   "metadata": {},
   "outputs": [
    {
     "name": "stdout",
     "output_type": "stream",
     "text": [
      "hour_of_day    0\n",
      "cash_type      0\n",
      "money          0\n",
      "coffee_name    0\n",
      "Time_of_Day    0\n",
      "Weekday        0\n",
      "Month_name     0\n",
      "Weekdaysort    0\n",
      "Monthsort      0\n",
      "Date           0\n",
      "Time           0\n",
      "dtype: int64\n"
     ]
    }
   ],
   "source": [
    "print(df.isnull().sum()) #Checking for missing values"
   ]
  },
  {
   "cell_type": "code",
   "execution_count": 47,
   "id": "927192bf",
   "metadata": {},
   "outputs": [
    {
     "name": "stdout",
     "output_type": "stream",
     "text": [
      "Missing values handled.\n"
     ]
    },
    {
     "name": "stderr",
     "output_type": "stream",
     "text": [
      "C:\\Users\\sidha\\AppData\\Local\\Temp\\ipykernel_24384\\1055105710.py:4: FutureWarning: A value is trying to be set on a copy of a DataFrame or Series through chained assignment using an inplace method.\n",
      "The behavior will change in pandas 3.0. This inplace method will never work because the intermediate object on which we are setting values always behaves as a copy.\n",
      "\n",
      "For example, when doing 'df[col].method(value, inplace=True)', try using 'df.method({col: value}, inplace=True)' or df[col] = df[col].method(value) instead, to perform the operation inplace on the original object.\n",
      "\n",
      "\n",
      "  df[col].fillna(df[col].median(), inplace=True)\n",
      "C:\\Users\\sidha\\AppData\\Local\\Temp\\ipykernel_24384\\1055105710.py:6: FutureWarning: A value is trying to be set on a copy of a DataFrame or Series through chained assignment using an inplace method.\n",
      "The behavior will change in pandas 3.0. This inplace method will never work because the intermediate object on which we are setting values always behaves as a copy.\n",
      "\n",
      "For example, when doing 'df[col].method(value, inplace=True)', try using 'df.method({col: value}, inplace=True)' or df[col] = df[col].method(value) instead, to perform the operation inplace on the original object.\n",
      "\n",
      "\n",
      "  df[col].fillna(df[col].mode()[0], inplace=True)\n"
     ]
    }
   ],
   "source": [
    "#Filling the missing values\n",
    "for col in df.columns:\n",
    "    if df[col].dtype in [\"int64\", \"float64\"]:\n",
    "        df[col].fillna(df[col].median(), inplace=True)\n",
    "    else:\n",
    "        df[col].fillna(df[col].mode()[0], inplace=True)\n",
    "print(\"Missing values handled.\")\n"
   ]
  },
  {
   "cell_type": "code",
   "execution_count": 48,
   "id": "7c313b6a",
   "metadata": {},
   "outputs": [],
   "source": [
    "# 3. Remove Duplicates"
   ]
  },
  {
   "cell_type": "code",
   "execution_count": 49,
   "id": "54de2273",
   "metadata": {},
   "outputs": [
    {
     "name": "stdout",
     "output_type": "stream",
     "text": [
      "Removed 0 duplicate rows.\n"
     ]
    }
   ],
   "source": [
    "before_rows = df.shape[0]\n",
    "df.drop_duplicates(inplace=True)\n",
    "after_rows = df.shape[0]\n",
    "print(f\"Removed {before_rows - after_rows} duplicate rows.\")"
   ]
  },
  {
   "cell_type": "code",
   "execution_count": 50,
   "id": "a75f382c",
   "metadata": {},
   "outputs": [],
   "source": [
    "# 4. Outlier Detection (Z-score)"
   ]
  },
  {
   "cell_type": "code",
   "execution_count": 51,
   "id": "f1c192c1",
   "metadata": {},
   "outputs": [
    {
     "name": "stdout",
     "output_type": "stream",
     "text": [
      "\n",
      "Outliers handled using Z-score.\n"
     ]
    }
   ],
   "source": [
    "numeric_cols = df.select_dtypes(include=[np.number]).columns\n",
    "\n",
    "if not numeric_cols.empty:\n",
    "    z_scores = np.abs(stats.zscore(df[numeric_cols]))\n",
    "    df = df[(z_scores < 3).all(axis=1)]\n",
    "    print(\"\\nOutliers handled using Z-score.\")\n",
    "else:\n",
    "    print(\"\\nNo numeric columns found for outlier detection.\")"
   ]
  },
  {
   "cell_type": "code",
   "execution_count": 52,
   "id": "d91300cd",
   "metadata": {},
   "outputs": [],
   "source": [
    "# 5. Save Cleaned Dataset"
   ]
  },
  {
   "cell_type": "code",
   "execution_count": 53,
   "id": "575e1847",
   "metadata": {},
   "outputs": [
    {
     "name": "stdout",
     "output_type": "stream",
     "text": [
      "\n",
      "Final Dataset Shape: (3547, 11)\n",
      "Cleaned dataset saved as 'Coffe_sales_cleaned.csv'.\n"
     ]
    }
   ],
   "source": [
    "df.to_csv(\"Coffe_sales_cleaned.csv\", index=False)\n",
    "\n",
    "print(\"\\nFinal Dataset Shape:\", df.shape)\n",
    "print(\"Cleaned dataset saved as 'Coffe_sales_cleaned.csv'.\")"
   ]
  },
  {
   "cell_type": "code",
   "execution_count": 55,
   "id": "f2389b7c",
   "metadata": {},
   "outputs": [
    {
     "name": "stdout",
     "output_type": "stream",
     "text": [
      "Dataset Shape: (3547, 11)\n",
      "First 5 and last 5 rows of the cleaned dataset:\n",
      "   hour_of_day cash_type  money    coffee_name Time_of_Day Weekday Month_name  \\\n",
      "0           10      card   38.7          Latte     Morning     Fri        Mar   \n",
      "1           12      card   38.7  Hot Chocolate   Afternoon     Fri        Mar   \n",
      "2           12      card   38.7  Hot Chocolate   Afternoon     Fri        Mar   \n",
      "3           13      card   28.9      Americano   Afternoon     Fri        Mar   \n",
      "4           13      card   38.7          Latte   Afternoon     Fri        Mar   \n",
      "\n",
      "   Weekdaysort  Monthsort        Date             Time  \n",
      "0            5          3  2024-03-01  10:15:50.520000  \n",
      "1            5          3  2024-03-01  12:19:22.539000  \n",
      "2            5          3  2024-03-01  12:20:18.089000  \n",
      "3            5          3  2024-03-01  13:46:33.006000  \n",
      "4            5          3  2024-03-01  13:48:14.626000  \n",
      "      hour_of_day cash_type  money coffee_name Time_of_Day Weekday Month_name  \\\n",
      "3542           10      card  35.76  Cappuccino     Morning     Sun        Mar   \n",
      "3543           14      card  35.76       Cocoa   Afternoon     Sun        Mar   \n",
      "3544           14      card  35.76       Cocoa   Afternoon     Sun        Mar   \n",
      "3545           15      card  25.96   Americano   Afternoon     Sun        Mar   \n",
      "3546           18      card  35.76       Latte       Night     Sun        Mar   \n",
      "\n",
      "      Weekdaysort  Monthsort        Date             Time  \n",
      "3542            7          3  2025-03-23  10:34:54.894000  \n",
      "3543            7          3  2025-03-23  14:43:37.362000  \n",
      "3544            7          3  2025-03-23  14:44:16.864000  \n",
      "3545            7          3  2025-03-23  15:47:28.723000  \n",
      "3546            7          3  2025-03-23  18:11:38.635000  \n"
     ]
    }
   ],
   "source": [
    "cleaned_df = pd.read_csv(\"Coffe_sales_cleaned.csv\")\n",
    "print(\"Dataset Shape:\", cleaned_df.shape)\n",
    "print(\"First 5 and last 5 rows of the cleaned dataset:\")\n",
    "print(cleaned_df.head())\n",
    "print(cleaned_df.tail())"
   ]
  },
  {
   "cell_type": "code",
   "execution_count": 56,
   "id": "51971c9c",
   "metadata": {},
   "outputs": [
    {
     "name": "stdout",
     "output_type": "stream",
     "text": [
      "\n",
      "Missing Values After Cleaning:\n",
      "hour_of_day    0\n",
      "cash_type      0\n",
      "money          0\n",
      "coffee_name    0\n",
      "Time_of_Day    0\n",
      "Weekday        0\n",
      "Month_name     0\n",
      "Weekdaysort    0\n",
      "Monthsort      0\n",
      "Date           0\n",
      "Time           0\n",
      "dtype: int64\n"
     ]
    }
   ],
   "source": [
    "print(\"\\nMissing Values After Cleaning:\")\n",
    "print(cleaned_df.isnull().sum())"
   ]
  },
  {
   "cell_type": "code",
   "execution_count": 62,
   "id": "095a1241",
   "metadata": {},
   "outputs": [
    {
     "name": "stdout",
     "output_type": "stream",
     "text": [
      "\n",
      "Number of Duplicates After Cleaning:\n",
      "0\n"
     ]
    }
   ],
   "source": [
    "print(\"\\nNumber of Duplicates After Cleaning:\")\n",
    "print(cleaned_df.duplicated().sum())"
   ]
  },
  {
   "cell_type": "code",
   "execution_count": 58,
   "id": "3bf9f72a",
   "metadata": {},
   "outputs": [
    {
     "name": "stdout",
     "output_type": "stream",
     "text": [
      "Original shape: (3547, 11)\n",
      "Cleaned shape: (3547, 11)\n"
     ]
    }
   ],
   "source": [
    "print(\"Original shape:\", df.shape)\n",
    "print(\"Cleaned shape:\", cleaned_df.shape)"
   ]
  }
 ],
 "metadata": {
  "kernelspec": {
   "display_name": "base",
   "language": "python",
   "name": "python3"
  },
  "language_info": {
   "codemirror_mode": {
    "name": "ipython",
    "version": 3
   },
   "file_extension": ".py",
   "mimetype": "text/x-python",
   "name": "python",
   "nbconvert_exporter": "python",
   "pygments_lexer": "ipython3",
   "version": "3.11.7"
  }
 },
 "nbformat": 4,
 "nbformat_minor": 5
}
